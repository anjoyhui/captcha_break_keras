{
 "cells": [
  {
   "cell_type": "code",
   "execution_count": 1,
   "metadata": {
    "collapsed": true
   },
   "outputs": [],
   "source": [
    "import string\n",
    "import random\n",
    "\n",
    "digits = string.digits\n",
    "operators = '+-*'\n",
    "characters = digits + operators + '() '\n",
    "\n",
    "def generate():\n",
    "    seq = ''\n",
    "    k = random.randint(0, 2)\n",
    "    \n",
    "    if k == 1:\n",
    "        seq += '('\n",
    "    seq += random.choice(digits)\n",
    "    seq += random.choice(operators)\n",
    "    if k == 2:\n",
    "        seq += '('\n",
    "    seq += random.choice(digits)\n",
    "    if k == 1:\n",
    "        seq += ')'\n",
    "    seq += random.choice(operators)\n",
    "    seq += random.choice(digits)\n",
    "    if k == 2:\n",
    "        seq += ')'\n",
    "    \n",
    "    return seq"
   ]
  },
  {
   "cell_type": "code",
   "execution_count": 2,
   "metadata": {},
   "outputs": [
    {
     "data": {
      "text/plain": [
       "'(2+7)+4'"
      ]
     },
     "execution_count": 2,
     "metadata": {},
     "output_type": "execute_result"
    }
   ],
   "source": [
    "generate()"
   ]
  },
  {
   "cell_type": "code",
   "execution_count": null,
   "metadata": {
    "collapsed": true
   },
   "outputs": [],
   "source": []
  }
 ],
 "metadata": {
  "kernelspec": {
   "display_name": "Python 2",
   "language": "python",
   "name": "python2"
  },
  "language_info": {
   "codemirror_mode": {
    "name": "ipython",
    "version": 2
   },
   "file_extension": ".py",
   "mimetype": "text/x-python",
   "name": "python",
   "nbconvert_exporter": "python",
   "pygments_lexer": "ipython2",
   "version": "2.7.12"
  }
 },
 "nbformat": 4,
 "nbformat_minor": 2
}
